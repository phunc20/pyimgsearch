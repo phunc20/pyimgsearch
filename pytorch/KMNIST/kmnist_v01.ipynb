{
 "cells": [
  {
   "cell_type": "markdown",
   "id": "bb3a7d06",
   "metadata": {},
   "source": [
    "## KMNIST Dataset\n",
    "- <https://github.com/rois-codh/kmnist>\n",
    "- <https://pytorch.org/vision/stable/datasets.html#kmnist>\n",
    "- <https://www.tensorflow.org/datasets/catalog/kmnist>"
   ]
  },
  {
   "cell_type": "code",
   "execution_count": 1,
   "id": "29367258",
   "metadata": {},
   "outputs": [],
   "source": [
    "from pathlib import Path\n",
    "from torchvision.datasets import KMNIST\n",
    "from torchvision.transforms import ToTensor"
   ]
  },
  {
   "cell_type": "code",
   "execution_count": 2,
   "id": "abf2014d",
   "metadata": {},
   "outputs": [
    {
     "data": {
      "text/plain": [
       "type"
      ]
     },
     "execution_count": 2,
     "metadata": {},
     "output_type": "execute_result"
    }
   ],
   "source": [
    "type(KMNIST)"
   ]
  },
  {
   "cell_type": "raw",
   "id": "22bb44a4",
   "metadata": {},
   "source": [
    "help(KMNIST)"
   ]
  },
  {
   "cell_type": "markdown",
   "id": "27fb2c23",
   "metadata": {},
   "source": [
    "```python\n",
    "KMNIST(\n",
    "    root=\"data\",\n",
    "    train=True,\n",
    "    download=True,\n",
    "    transform=ToTensor(),\n",
    ")\n",
    "```\n",
    "\n",
    "will\n",
    "\n",
    "- call the `__init__()` method of the class `KMNIST`, create a folder under the path given in the `root` parameter if it does not already exist, and download the dataset of KMNIST into this folder\n",
    "- `train=True` will set the returned value to the training dataset\n",
    "- **(?)** `transform=ToTensor()` **(R)** Cf. next cell.\n",
    "- One single download will download both the training and the test sets\n",
    "  - In other words, later on, when you want to access to the test set by calling the same class with parameter `train=False`, you can set the `download` parameter to `False`\n",
    "  - Actually, if you mistakenly set `download=True`, as long as the `root` path has already had a copy of the download, the code will not make another unnecessary download\n"
   ]
  },
  {
   "cell_type": "markdown",
   "id": "524040d1",
   "metadata": {},
   "source": [
    "```\n",
    "help(ToTensor)\n",
    "\n",
    "Converts a PIL Image or numpy.ndarray (H x W x C) in the range [0, 255] to a torch.FloatTensor of shape (C x H x W) in the range [0.0, 1.0] if the PIL Image belongs to one of the modes (L, LA, P, I, F, RGB, YCbCr, RGBA, CMYK, 1) or if the numpy.ndarray has dtype = np.uint8.\n",
    "\n",
    "In the other cases, tensors are returned without scaling.\n",
    "```"
   ]
  },
  {
   "cell_type": "code",
   "execution_count": 3,
   "id": "038c1748",
   "metadata": {},
   "outputs": [
    {
     "data": {
      "text/plain": [
       "(Dataset KMNIST\n",
       "     Number of datapoints: 60000\n",
       "     Root location: /home/phunc20/datasets/pytorch\n",
       "     Split: Train\n",
       "     StandardTransform\n",
       " Transform: ToTensor(),\n",
       " torchvision.datasets.mnist.KMNIST)"
      ]
     },
     "execution_count": 3,
     "metadata": {},
     "output_type": "execute_result"
    }
   ],
   "source": [
    "path_pytorch_dataset = Path.home() / \"datasets/pytorch\"\n",
    "train_data = KMNIST(\n",
    "    root=path_pytorch_dataset,\n",
    "    train=True,\n",
    "    download=True,\n",
    "    transform=ToTensor(),\n",
    ")\n",
    "train_data, type(train_data)"
   ]
  },
  {
   "cell_type": "code",
   "execution_count": 4,
   "id": "616b3163",
   "metadata": {
    "scrolled": true
   },
   "outputs": [
    {
     "data": {
      "text/plain": [
       "(Dataset KMNIST\n",
       "     Number of datapoints: 10000\n",
       "     Root location: /home/phunc20/datasets/pytorch\n",
       "     Split: Test\n",
       "     StandardTransform\n",
       " Transform: ToTensor(),\n",
       " torchvision.datasets.mnist.KMNIST)"
      ]
     },
     "execution_count": 4,
     "metadata": {},
     "output_type": "execute_result"
    }
   ],
   "source": [
    "test_data = KMNIST(\n",
    "    root=path_pytorch_dataset,\n",
    "    train=False,\n",
    "    download=False,\n",
    "    transform=ToTensor(),\n",
    ")\n",
    "test_data, type(test_data)"
   ]
  },
  {
   "cell_type": "code",
   "execution_count": 5,
   "id": "9dc22cc3",
   "metadata": {},
   "outputs": [],
   "source": [
    "def non_dunder(obj):\n",
    "    return [s for s in dir(obj) if not s.startswith(\"__\")]"
   ]
  },
  {
   "cell_type": "code",
   "execution_count": 7,
   "id": "77fec432",
   "metadata": {},
   "outputs": [
    {
     "data": {
      "text/plain": [
       "['_check_exists',\n",
       " '_format_transform_repr',\n",
       " '_repr_indent',\n",
       " 'class_to_idx',\n",
       " 'classes',\n",
       " 'data',\n",
       " 'download',\n",
       " 'extra_repr',\n",
       " 'processed_folder',\n",
       " 'raw_folder',\n",
       " 'resources',\n",
       " 'root',\n",
       " 'target_transform',\n",
       " 'targets',\n",
       " 'test_data',\n",
       " 'test_file',\n",
       " 'test_labels',\n",
       " 'train',\n",
       " 'train_data',\n",
       " 'train_labels',\n",
       " 'training_file',\n",
       " 'transform',\n",
       " 'transforms']"
      ]
     },
     "execution_count": 7,
     "metadata": {},
     "output_type": "execute_result"
    }
   ],
   "source": [
    "non_dunder(train_data)"
   ]
  },
  {
   "cell_type": "code",
   "execution_count": 8,
   "id": "44c126c7",
   "metadata": {},
   "outputs": [
    {
     "data": {
      "text/plain": [
       "tensor([[[  0,   0,   0,  ...,   0,   0,   0],\n",
       "         [  0,   0,   0,  ...,   0,   0,   0],\n",
       "         [  0,   0,   0,  ...,   0,   0,   0],\n",
       "         ...,\n",
       "         [  0,   0,   0,  ...,   0,   0,   0],\n",
       "         [  0,   0,   0,  ...,   0,   0,   0],\n",
       "         [  0,   0,   0,  ...,   0,   0,   0]],\n",
       "\n",
       "        [[  0,   0,   0,  ...,   0,   0,   0],\n",
       "         [  0,   0,   0,  ...,   0,   0,   0],\n",
       "         [  0,   0,   0,  ...,   0,   0,   0],\n",
       "         ...,\n",
       "         [  0,   0,   0,  ...,   0,   0,   0],\n",
       "         [  0,   0,   0,  ...,   0,   0,   0],\n",
       "         [  0,   0,   0,  ...,   0,   0,   0]],\n",
       "\n",
       "        [[  0,   0,   0,  ...,   0,   0,   0],\n",
       "         [  0,   0,   0,  ...,   0,   0,   0],\n",
       "         [  0,   0,   0,  ...,   0,   0,   0],\n",
       "         ...,\n",
       "         [  0,   0,   0,  ...,   0,   0,   0],\n",
       "         [  0,   0,   0,  ...,   0,   0,   0],\n",
       "         [  0,   0,   0,  ...,   0,   0,   0]],\n",
       "\n",
       "        ...,\n",
       "\n",
       "        [[  0,   0,   0,  ...,   0,   0,   0],\n",
       "         [  0,   0,   0,  ...,   0,   0,   0],\n",
       "         [ 83, 147, 126,  ..., 145,  49,   0],\n",
       "         ...,\n",
       "         [  0,   0,   0,  ...,   0,   0,   0],\n",
       "         [  0,   0,   0,  ...,   0,   0,   0],\n",
       "         [  0,   0,   0,  ...,   0,   0,   0]],\n",
       "\n",
       "        [[  0,   0,   0,  ...,   0,   0,   0],\n",
       "         [  0,   0,   1,  ...,   0,   0,   0],\n",
       "         [  0,   0,   2,  ...,   0,   0,   0],\n",
       "         ...,\n",
       "         [  0,   0,   0,  ...,   0,   0,   0],\n",
       "         [  0,   0,   0,  ...,   0,   0,   0],\n",
       "         [  0,   0,   0,  ...,   0,   0,   0]],\n",
       "\n",
       "        [[  0,   0,   0,  ...,   1,   0,   0],\n",
       "         [  0,   0,   0,  ...,   0,   0,   0],\n",
       "         [  0,   0,   0,  ...,   0,   0,   0],\n",
       "         ...,\n",
       "         [  0,   0, 131,  ...,  81,   0,   0],\n",
       "         [  0,   0, 114,  ...,  23,   0,   0],\n",
       "         [  0,   0,  11,  ...,   0,   0,   0]]], dtype=torch.uint8)"
      ]
     },
     "execution_count": 8,
     "metadata": {},
     "output_type": "execute_result"
    }
   ],
   "source": [
    "train_data.data"
   ]
  },
  {
   "cell_type": "code",
   "execution_count": 9,
   "id": "8582bae1",
   "metadata": {},
   "outputs": [
    {
     "data": {
      "text/plain": [
       "(torch.Size([60000, 28, 28]), torch.Size([10000, 28, 28]))"
      ]
     },
     "execution_count": 9,
     "metadata": {},
     "output_type": "execute_result"
    }
   ],
   "source": [
    "train_data.data.shape, test_data.data.shape"
   ]
  },
  {
   "cell_type": "code",
   "execution_count": 10,
   "id": "b9808e59",
   "metadata": {},
   "outputs": [
    {
     "data": {
      "text/plain": [
       "(60000, 10000)"
      ]
     },
     "execution_count": 10,
     "metadata": {},
     "output_type": "execute_result"
    }
   ],
   "source": [
    "len(train_data), len(test_data)"
   ]
  },
  {
   "cell_type": "code",
   "execution_count": 15,
   "id": "dbd216b2",
   "metadata": {},
   "outputs": [],
   "source": [
    "batch_size = 64"
   ]
  },
  {
   "cell_type": "code",
   "execution_count": 11,
   "id": "3e41ca20",
   "metadata": {},
   "outputs": [
    {
     "data": {
      "text/plain": [
       "(torch.utils.data.dataset.Subset, torch.utils.data.dataset.Subset)"
      ]
     },
     "execution_count": 11,
     "metadata": {},
     "output_type": "execute_result"
    }
   ],
   "source": [
    "# We will further divide train_data into training and validation sets\n",
    "import torch\n",
    "from torch.utils.data import random_split\n",
    "\n",
    "train_size = 0.75\n",
    "n_train = int(len(train_data) * train_size) if isinstance(train_size, float) else train_size\n",
    "n_val = len(train_data) - n_train\n",
    "train_data, val_data = random_split(\n",
    "    train_data,\n",
    "    [n_train, n_val],\n",
    "    generator=torch.Generator().manual_seed(42),\n",
    ")\n",
    "type(train_data), type(val_data)"
   ]
  },
  {
   "cell_type": "code",
   "execution_count": 12,
   "id": "a7ece6c3",
   "metadata": {},
   "outputs": [
    {
     "data": {
      "text/plain": [
       "(45000, 15000)"
      ]
     },
     "execution_count": 12,
     "metadata": {},
     "output_type": "execute_result"
    }
   ],
   "source": [
    "len(train_data), len(val_data)"
   ]
  },
  {
   "cell_type": "code",
   "execution_count": 16,
   "id": "17fe4b1c",
   "metadata": {},
   "outputs": [],
   "source": [
    "from torch.utils.data import DataLoader\n",
    "\n",
    "loader_train = DataLoader(\n",
    "    train_data,\n",
    "    shuffle=True,\n",
    "    batch_size=batch_size,\n",
    ")\n",
    "loader_val = DataLoader(\n",
    "    val_data,\n",
    "    batch_size=batch_size,\n",
    ")\n",
    "loader_test = DataLoader(\n",
    "    test_data,\n",
    "    batch_size=batch_size,\n",
    ")"
   ]
  },
  {
   "cell_type": "code",
   "execution_count": 19,
   "id": "dfb4d95d",
   "metadata": {},
   "outputs": [
    {
     "data": {
      "text/plain": [
       "(704, 45000)"
      ]
     },
     "execution_count": 19,
     "metadata": {},
     "output_type": "execute_result"
    }
   ],
   "source": [
    "len(loader_train), len(loader_train.dataset)"
   ]
  },
  {
   "cell_type": "markdown",
   "id": "c561e807",
   "metadata": {},
   "source": [
    "Note that\n",
    "\n",
    "- the first length is the number of batches\n",
    "- the second length is the number of instances"
   ]
  },
  {
   "cell_type": "code",
   "execution_count": 22,
   "id": "3a9a0b5d",
   "metadata": {},
   "outputs": [
    {
     "data": {
      "text/plain": [
       "(704, 235, 157)"
      ]
     },
     "execution_count": 22,
     "metadata": {},
     "output_type": "execute_result"
    }
   ],
   "source": [
    "len(loader_train), len(loader_val), len(loader_test)"
   ]
  },
  {
   "cell_type": "code",
   "execution_count": 21,
   "id": "08aea373",
   "metadata": {},
   "outputs": [
    {
     "data": {
      "text/plain": [
       "(703, 234, 156)"
      ]
     },
     "execution_count": 21,
     "metadata": {},
     "output_type": "execute_result"
    }
   ],
   "source": [
    "len(loader_train.dataset) // batch_size, \\\n",
    "len(loader_val.dataset) // batch_size, \\\n",
    "len(loader_test.dataset) // batch_size"
   ]
  },
  {
   "cell_type": "code",
   "execution_count": null,
   "id": "a8e10853",
   "metadata": {},
   "outputs": [],
   "source": []
  }
 ],
 "metadata": {
  "kernelspec": {
   "display_name": "Python 3",
   "language": "python",
   "name": "python3"
  },
  "language_info": {
   "codemirror_mode": {
    "name": "ipython",
    "version": 3
   },
   "file_extension": ".py",
   "mimetype": "text/x-python",
   "name": "python",
   "nbconvert_exporter": "python",
   "pygments_lexer": "ipython3",
   "version": "3.7.10"
  }
 },
 "nbformat": 4,
 "nbformat_minor": 5
}
