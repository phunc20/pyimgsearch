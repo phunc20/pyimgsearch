{
 "cells": [
  {
   "cell_type": "markdown",
   "id": "bb3a7d06",
   "metadata": {},
   "source": [
    "## KMNIST Dataset\n",
    "- <https://github.com/rois-codh/kmnist>\n",
    "- <https://pytorch.org/vision/stable/datasets.html#kmnist>\n",
    "- <https://www.tensorflow.org/datasets/catalog/kmnist>"
   ]
  },
  {
   "cell_type": "code",
   "execution_count": 6,
   "id": "29367258",
   "metadata": {},
   "outputs": [],
   "source": [
    "from pathlib import Path\n",
    "from torchvision.datasets import KMNIST\n",
    "from torchvision.transforms import ToTensor"
   ]
  },
  {
   "cell_type": "code",
   "execution_count": 9,
   "id": "abf2014d",
   "metadata": {},
   "outputs": [
    {
     "data": {
      "text/plain": [
       "type"
      ]
     },
     "execution_count": 9,
     "metadata": {},
     "output_type": "execute_result"
    }
   ],
   "source": [
    "type(KMNIST)"
   ]
  },
  {
   "cell_type": "raw",
   "id": "22bb44a4",
   "metadata": {},
   "source": [
    "help(KMNIST)"
   ]
  },
  {
   "cell_type": "markdown",
   "id": "27fb2c23",
   "metadata": {},
   "source": [
    "```python\n",
    "KMNIST(\n",
    "    root=\"data\",\n",
    "    train=True,\n",
    "    download=True,\n",
    "    transform=ToTensor(),\n",
    ")\n",
    "```\n",
    "\n",
    "will\n",
    "\n",
    "- call the `__init__()` method of the class `KMNIST`, create a folder under the path given in the `root` parameter if it does not already exist, and download the dataset of KMNIST into this folder\n",
    "- `train=True` will set the returned value to the training dataset\n",
    "- **(?)** `transform=ToTensor()`\n",
    "- One single download will download both the training and the test sets\n",
    "  - In other words, later on, when you want to access to the test set by calling the same class with parameter `train=False`, you can set the `download` parameter to `False`\n",
    "  - Actually, if you mistakenly set `download=True`, as long as the `root` path has already had a copy of the download, the code will not make another unnecessary download\n"
   ]
  },
  {
   "cell_type": "code",
   "execution_count": 10,
   "id": "038c1748",
   "metadata": {},
   "outputs": [
    {
     "data": {
      "text/plain": [
       "(Dataset KMNIST\n",
       "     Number of datapoints: 60000\n",
       "     Root location: /home/phunc20/datasets/pytorch\n",
       "     Split: Train\n",
       "     StandardTransform\n",
       " Transform: ToTensor(),\n",
       " torchvision.datasets.mnist.KMNIST)"
      ]
     },
     "execution_count": 10,
     "metadata": {},
     "output_type": "execute_result"
    }
   ],
   "source": [
    "path_pytorch_dataset = Path.home() / \"datasets/pytorch\"\n",
    "train_data = KMNIST(\n",
    "    root=path_pytorch_dataset,\n",
    "    train=True,\n",
    "    download=True,\n",
    "    transform=ToTensor(),\n",
    ")\n",
    "train_data, type(train_data)"
   ]
  },
  {
   "cell_type": "code",
   "execution_count": 25,
   "id": "616b3163",
   "metadata": {
    "scrolled": true
   },
   "outputs": [
    {
     "data": {
      "text/plain": [
       "(Dataset KMNIST\n",
       "     Number of datapoints: 10000\n",
       "     Root location: /home/phunc20/datasets/pytorch\n",
       "     Split: Test\n",
       "     StandardTransform\n",
       " Transform: ToTensor(),\n",
       " torchvision.datasets.mnist.KMNIST)"
      ]
     },
     "execution_count": 25,
     "metadata": {},
     "output_type": "execute_result"
    }
   ],
   "source": [
    "test_data = KMNIST(\n",
    "    root=path_pytorch_dataset,\n",
    "    train=False,\n",
    "    download=True,\n",
    "    transform=ToTensor(),\n",
    ")\n",
    "test_data, type(test_data)"
   ]
  },
  {
   "cell_type": "code",
   "execution_count": 14,
   "id": "9dc22cc3",
   "metadata": {},
   "outputs": [],
   "source": [
    "def non_dunder(obj):\n",
    "    return [s for s in dir(obj) if not s.startswith(\"__\")]"
   ]
  },
  {
   "cell_type": "code",
   "execution_count": 18,
   "id": "48b2b6bd",
   "metadata": {},
   "outputs": [],
   "source": [
    "test_data."
   ]
  },
  {
   "cell_type": "code",
   "execution_count": 15,
   "id": "77fec432",
   "metadata": {},
   "outputs": [
    {
     "data": {
      "text/plain": [
       "['_check_exists',\n",
       " '_format_transform_repr',\n",
       " '_repr_indent',\n",
       " 'class_to_idx',\n",
       " 'classes',\n",
       " 'data',\n",
       " 'download',\n",
       " 'extra_repr',\n",
       " 'processed_folder',\n",
       " 'raw_folder',\n",
       " 'resources',\n",
       " 'root',\n",
       " 'target_transform',\n",
       " 'targets',\n",
       " 'test_data',\n",
       " 'test_file',\n",
       " 'test_labels',\n",
       " 'train',\n",
       " 'train_data',\n",
       " 'train_labels',\n",
       " 'training_file',\n",
       " 'transform',\n",
       " 'transforms']"
      ]
     },
     "execution_count": 15,
     "metadata": {},
     "output_type": "execute_result"
    }
   ],
   "source": [
    "non_dunder(train_data)"
   ]
  },
  {
   "cell_type": "code",
   "execution_count": 20,
   "id": "44c126c7",
   "metadata": {},
   "outputs": [
    {
     "data": {
      "text/plain": [
       "tensor([[[  0,   0,   0,  ...,   0,   0,   0],\n",
       "         [  0,   0,   0,  ...,   0,   0,   0],\n",
       "         [  0,   0,   0,  ...,   0,   0,   0],\n",
       "         ...,\n",
       "         [  0,   0,   0,  ...,   0,   0,   0],\n",
       "         [  0,   0,   0,  ...,   0,   0,   0],\n",
       "         [  0,   0,   0,  ...,   0,   0,   0]],\n",
       "\n",
       "        [[  0,   0,   0,  ...,   0,   0,   0],\n",
       "         [  0,   0,   0,  ...,   0,   0,   0],\n",
       "         [  0,   0,   0,  ...,   0,   0,   0],\n",
       "         ...,\n",
       "         [  0,   0,   0,  ...,   0,   0,   0],\n",
       "         [  0,   0,   0,  ...,   0,   0,   0],\n",
       "         [  0,   0,   0,  ...,   0,   0,   0]],\n",
       "\n",
       "        [[  0,   0,   0,  ...,   0,   0,   0],\n",
       "         [  0,   0,   0,  ...,   0,   0,   0],\n",
       "         [  0,   0,   0,  ...,   0,   0,   0],\n",
       "         ...,\n",
       "         [  0,   0,   0,  ...,   0,   0,   0],\n",
       "         [  0,   0,   0,  ...,   0,   0,   0],\n",
       "         [  0,   0,   0,  ...,   0,   0,   0]],\n",
       "\n",
       "        ...,\n",
       "\n",
       "        [[  0,   0,   0,  ...,   0,   0,   0],\n",
       "         [  0,   0,   0,  ...,   0,   0,   0],\n",
       "         [ 83, 147, 126,  ..., 145,  49,   0],\n",
       "         ...,\n",
       "         [  0,   0,   0,  ...,   0,   0,   0],\n",
       "         [  0,   0,   0,  ...,   0,   0,   0],\n",
       "         [  0,   0,   0,  ...,   0,   0,   0]],\n",
       "\n",
       "        [[  0,   0,   0,  ...,   0,   0,   0],\n",
       "         [  0,   0,   1,  ...,   0,   0,   0],\n",
       "         [  0,   0,   2,  ...,   0,   0,   0],\n",
       "         ...,\n",
       "         [  0,   0,   0,  ...,   0,   0,   0],\n",
       "         [  0,   0,   0,  ...,   0,   0,   0],\n",
       "         [  0,   0,   0,  ...,   0,   0,   0]],\n",
       "\n",
       "        [[  0,   0,   0,  ...,   1,   0,   0],\n",
       "         [  0,   0,   0,  ...,   0,   0,   0],\n",
       "         [  0,   0,   0,  ...,   0,   0,   0],\n",
       "         ...,\n",
       "         [  0,   0, 131,  ...,  81,   0,   0],\n",
       "         [  0,   0, 114,  ...,  23,   0,   0],\n",
       "         [  0,   0,  11,  ...,   0,   0,   0]]], dtype=torch.uint8)"
      ]
     },
     "execution_count": 20,
     "metadata": {},
     "output_type": "execute_result"
    }
   ],
   "source": [
    "train_data.data"
   ]
  },
  {
   "cell_type": "code",
   "execution_count": 26,
   "id": "8582bae1",
   "metadata": {},
   "outputs": [
    {
     "data": {
      "text/plain": [
       "(torch.Size([60000, 28, 28]), torch.Size([10000, 28, 28]))"
      ]
     },
     "execution_count": 26,
     "metadata": {},
     "output_type": "execute_result"
    }
   ],
   "source": [
    "train_data.data.shape, test_data.data.shape"
   ]
  },
  {
   "cell_type": "code",
   "execution_count": null,
   "id": "b9808e59",
   "metadata": {},
   "outputs": [],
   "source": []
  },
  {
   "cell_type": "code",
   "execution_count": null,
   "id": "3e41ca20",
   "metadata": {},
   "outputs": [],
   "source": []
  },
  {
   "cell_type": "code",
   "execution_count": null,
   "id": "a7ece6c3",
   "metadata": {},
   "outputs": [],
   "source": []
  }
 ],
 "metadata": {
  "kernelspec": {
   "display_name": "Python 3",
   "language": "python",
   "name": "python3"
  },
  "language_info": {
   "codemirror_mode": {
    "name": "ipython",
    "version": 3
   },
   "file_extension": ".py",
   "mimetype": "text/x-python",
   "name": "python",
   "nbconvert_exporter": "python",
   "pygments_lexer": "ipython3",
   "version": "3.7.10"
  }
 },
 "nbformat": 4,
 "nbformat_minor": 5
}
